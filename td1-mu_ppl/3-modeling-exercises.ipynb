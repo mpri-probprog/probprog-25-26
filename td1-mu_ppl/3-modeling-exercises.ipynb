{
 "cells": [
  {
   "cell_type": "code",
   "execution_count": null,
   "id": "c6e3276b",
   "metadata": {},
   "outputs": [],
   "source": [
    "%pip install git+https://github.com/gbdrt/mu-ppl"
   ]
  },
  {
   "cell_type": "code",
   "execution_count": null,
   "id": "316d6b9f",
   "metadata": {},
   "outputs": [],
   "source": [
    "from mu_ppl import *\n",
    "import numpy as np\n",
    "import matplotlib.pyplot as plt\n",
    "import pandas as pd"
   ]
  },
  {
   "cell_type": "markdown",
   "id": "8bf7ddcb",
   "metadata": {},
   "source": [
    "# Exercices"
   ]
  },
  {
   "cell_type": "markdown",
   "id": "882f77de",
   "metadata": {},
   "source": [
    "**Question 1**\n",
    "\n",
    "Define a probabilistic program that models the number of tosses of a fair coin before getting a Tail."
   ]
  },
  {
   "cell_type": "code",
   "execution_count": null,
   "id": "77a6af72",
   "metadata": {},
   "outputs": [],
   "source": [
    "def success(n):\n",
    "    # TODO\n",
    "    return 0\n",
    "\n",
    "with ImportanceSampling(num_particles=10000):\n",
    "    dist: Empirical[int] = infer(success, 1)\n",
    "    viz(dist) \n",
    "\n"
   ]
  },
  {
   "cell_type": "markdown",
   "id": "7ec517a3",
   "metadata": {},
   "source": [
    "**Question 2**\n",
    "\n",
    "Knuth and Yao proposed an algorithm that allows simulating a perfect 6-sided die from a fair coin. \n",
    "The algorithm corresponds to the discrete Markov chain represented below.\n",
    "\n",
    "![knuth-yao](./knuth-yao.jpg)\n",
    "\n",
    "Starting from the initial state, we follow the transitions based on the result of a coin toss (probability 0.5 on each of the two branches). \n",
    "We return the value obtained as soon as we reach a leaf. \n",
    "The 6 leaves numbered from 11 to 16 correspond to the 6 faces of the die.\n",
    "\n",
    "_D. Knuth and A. Yao. Algorithms and Complexity: New Directions and Recent Results, chapter The complexity of nonuniform random number generation. Academic Press, 1976.) proposed an algorithm that allows simulating a perfect 6-sided die from a fair coin [1]. The algorithm corresponds to the discrete Markov chain represented below._\n",
    "\n",
    "Implement this model and verify that we indeed obtain a balanced die."
   ]
  },
  {
   "cell_type": "code",
   "execution_count": null,
   "id": "4b7a9be2",
   "metadata": {},
   "outputs": [],
   "source": [
    "def dice ():\n",
    "  # TODO\n",
    "  return 0"
   ]
  },
  {
   "cell_type": "markdown",
   "id": "4be57029",
   "metadata": {},
   "source": [
    "**Question 3**\n",
    "\n",
    "TrueSkills™ is a ranking system developed by Microsoft for Xbox Live.\n",
    "Each player's skill level is represented by a Gaussian distribution. \n",
    "We initially assume that for all players P, skill_P ∼ N(100, 10).\n",
    "In each duel, the performance of each player follows a Gaussian distribution centered on their skill level with a fixed variance. \n",
    "We then observe that the performance of the winner W is superior to that of the loser L, which updates the random variables skill_W and skill_L.\n",
    "\n",
    "```\n",
    "perf_W ∼ N(skill_W, 15)\n",
    "perf_L ∼ N(skill_L, 15)\n",
    "perf_W > perf_L\n",
    "```\n",
    "\n",
    "_R. Herbrich, T. Minka and T. Graepel TrueSkill™: A Bayesian Skill Rating System. NIPS, 2006._\n",
    "\n",
    "Implement this model for three players A, B, and C, and three duels:\n",
    "\n",
    "```\n",
    "A wins against B,\n",
    "B wins against C,\n",
    "A wins against C.\n",
    "```\n",
    "\n",
    "Verify that the obtained results correspond to what we expect.\n",
    "\n"
   ]
  },
  {
   "cell_type": "code",
   "execution_count": null,
   "id": "31e9316b",
   "metadata": {},
   "outputs": [],
   "source": [
    "def true_skills() -> list[float]:\n",
    "    # TODO\n",
    "    return [100]*3\n",
    "\n",
    "\n",
    "with ImportanceSampling(num_particles=10000):\n",
    "    dist: Empirical[list[float]] = infer(true_skills)  # type: ignore\n",
    "    [d_skill_a, d_skill_b, d_skill_c] = split(dist)\n",
    "    print(f\"A: {d_skill_a.stats()}\")\n",
    "    print(f\"B: {d_skill_b.stats()}\")\n",
    "    print(f\"C: {d_skill_c.stats()}\")\n"
   ]
  },
  {
   "cell_type": "markdown",
   "id": "58b94c1a",
   "metadata": {},
   "source": [
    "_Optional_: Implement a more general model that takes as parameters an array of players with their initial skill levels and a list of duels. \n",
    "We can represent a duel by a pair of integers (i, j) where i and j correspond to the indices of the players in the array. \n",
    "By convention, the winner of the duel will always be i."
   ]
  },
  {
   "cell_type": "code",
   "execution_count": null,
   "id": "2a265b1d",
   "metadata": {},
   "outputs": [],
   "source": [
    "def true_skills2(players, results):\n",
    "    # TODO\n",
    "    return [100]*3\n",
    "\n",
    "with ImportanceSampling(num_particles=10000):\n",
    "    dist: Empirical[list[float]] = infer(true_skills2, [100]*3, [(0, 1), (1, 2), (0, 2)])  # type: ignore\n",
    "    [d_skill_a, d_skill_b, d_skill_c] = split(dist)\n",
    "    print(f\"A: {d_skill_a.stats()}\")\n",
    "    print(f\"B: {d_skill_b.stats()}\")\n",
    "    print(f\"C: {d_skill_c.stats()}\")"
   ]
  },
  {
   "cell_type": "markdown",
   "id": "588e3e5d",
   "metadata": {},
   "source": [
    "**Question 4**\n",
    "\n",
    "During the Vietnam War in 1975, researchers needed to evaluate the proportion of soldiers who smoke. Since smoking was a sensitive topic that soldiers might not answer honestly, they designed an experiment to protect individual privacy. \n",
    "When asked \"Do you smoke?\", each soldier was instructed to first toss a coin privately. \n",
    "Only the soldier could see the result.\n",
    "If the coin showed heads, the soldier was instructed to answer \"yes\" regardless of whether they actually smoke or not. \n",
    "If the coin showed tails, the soldier was instructed to answer truthfully.\n",
    "\n",
    "After 200 responses, 160 soldiers answered \"yes\" and 40 answered \"no\".\n",
    "\n",
    "Can you compute the probability that a soldier is a smoker (using Bayes' theorem) ?\n",
    "\n",
    "Use a probabilistic model to evaluate what is the probability that a soldier is a smoker."
   ]
  },
  {
   "cell_type": "code",
   "execution_count": null,
   "id": "8deba797",
   "metadata": {},
   "outputs": [],
   "source": [
    "def canabis(yes, population):\n",
    "    # TODO\n",
    "    return 0.\n",
    "\n",
    "with ImportanceSampling(num_particles=10000):\n",
    "    dist: Empirical[float] = infer(canabis, 160, 200)  # type: ignore\n",
    "    print(dist.stats())\n"
   ]
  }
 ],
 "metadata": {
  "kernelspec": {
   "display_name": "probprog-25-26 (3.13.7)",
   "language": "python",
   "name": "python3"
  },
  "language_info": {
   "codemirror_mode": {
    "name": "ipython",
    "version": 3
   },
   "file_extension": ".py",
   "mimetype": "text/x-python",
   "name": "python",
   "nbconvert_exporter": "python",
   "pygments_lexer": "ipython3",
   "version": "3.13.7"
  }
 },
 "nbformat": 4,
 "nbformat_minor": 5
}
