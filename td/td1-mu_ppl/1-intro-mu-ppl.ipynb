{
 "cells": [
  {
   "cell_type": "code",
   "execution_count": null,
   "metadata": {},
   "outputs": [],
   "source": [
    "%pip install git+https://github.com/gbdrt/mu-ppl"
   ]
  },
  {
   "cell_type": "code",
   "execution_count": null,
   "metadata": {},
   "outputs": [],
   "source": [
    "from mu_ppl import *\n",
    "import matplotlib.pyplot as plt\n",
    "import numpy as np"
   ]
  },
  {
   "cell_type": "markdown",
   "metadata": {},
   "source": [
    "# Introduction to probabilistic programming with mu-ppl\n",
    "\n",
    "G. Baudart & C. Tasson\n",
    "\n",
    "\n",
    "## Random execution with `sample`\n",
    "\n",
    "A probabilistic model is a classic Python function.\n",
    "The probabilistic operator `sample` draws a sample from a distribution which yields non-deterministic behavior.\n",
    "For instance, what is the distribution described by the following program ?"
   ]
  },
  {
   "cell_type": "code",
   "execution_count": null,
   "metadata": {},
   "outputs": [],
   "source": [
    "def dice() -> int:\n",
    "    a = sample(RandInt(1, 6), name=\"a\")\n",
    "    b = sample(RandInt(1, 6), name=\"b\")\n",
    "    return a + b"
   ]
  },
  {
   "cell_type": "markdown",
   "metadata": {},
   "source": [
    "We can already execute the model to get a list of random samples."
   ]
  },
  {
   "cell_type": "code",
   "execution_count": null,
   "metadata": {},
   "outputs": [],
   "source": [
    "[dice() for _ in range(10)]"
   ]
  },
  {
   "cell_type": "markdown",
   "metadata": {},
   "source": [
    "## Computing a distribution with `Infer`\n",
    "\n",
    "The `infer` operator is used to compute the distribution describes by a model.\n",
    "Following [Pyro](https://pyro.ai/), in mu-ppl we use _context managers_ to implement different inference algorithms.\n",
    "\n",
    "Our model, only use finite discrete support distribution.\n",
    "We can enumerate all possible execution to compute the distribution."
   ]
  },
  {
   "cell_type": "code",
   "execution_count": null,
   "metadata": {},
   "outputs": [],
   "source": [
    "with Enumeration():\n",
    "    dist: Categorical[int] = infer(dice)\n",
    "    viz(dist)"
   ]
  },
  {
   "cell_type": "markdown",
   "metadata": {},
   "source": [
    "**Remark:** In the model definition, each `sample` operator takes an optional argument `name` which specify a _unique_ name for each sample site.\n",
    "This argument is required to run some inference algorithm.\n",
    "In the enumation algorithm we use the names to compute the execution paths to be explored.\n",
    "\n",
    "## Distributions\n",
    "\n",
    "In mu-ppl a distribution `d` is an object which implement the following methods:\n",
    "- `d.sample()` draws a random sample\n",
    "- `d.logprob(v)` computes the log-probability of `d` at `v`\n",
    "- `d.stats()` returns the mean and variance."
   ]
  },
  {
   "cell_type": "code",
   "execution_count": null,
   "metadata": {},
   "outputs": [],
   "source": [
    "norm = Gaussian(0, 1)\n",
    "print(f\"A sample from N(0, 1): {norm.sample()}\")\n",
    "print(f\"mu, sigma = {norm.stats()}\")\n",
    "\n",
    "x = np.linspace(-3, 3, 100) \n",
    "plt.plot(x, np.exp(norm.log_prob(x)))"
   ]
  },
  {
   "cell_type": "markdown",
   "metadata": {},
   "source": [
    "## Conditionning the model with `assume`\n",
    "\n",
    "We can also make assumptions that must always hold.\n",
    "For instance, what is the distribution modeled by the following program?"
   ]
  },
  {
   "cell_type": "code",
   "execution_count": null,
   "metadata": {},
   "outputs": [],
   "source": [
    "def hard_dice() -> int:\n",
    "    a = sample(RandInt(1, 6), name=\"a\")\n",
    "    b = sample(RandInt(1, 6), name=\"b\")\n",
    "    assume (a != b)\n",
    "    return a + b"
   ]
  },
  {
   "cell_type": "markdown",
   "metadata": {},
   "source": [
    "The `assume` operator \"skews\" the distribution."
   ]
  },
  {
   "cell_type": "code",
   "execution_count": null,
   "metadata": {},
   "outputs": [],
   "source": [
    "with Enumeration():\n",
    "    dist: Categorical[int] = infer(hard_dice)\n",
    "    print(dist.stats())\n",
    "    viz(dist)"
   ]
  },
  {
   "cell_type": "markdown",
   "metadata": {},
   "source": [
    "## Soft conditionning with `factor`\n",
    "\n",
    "The `assume` operator performs _hard conditionning_ declaring an assertion that must hold for all valid execution.\n",
    "An alternative is to rely on _soft conditionning_ which associates a weigth to each execution.\n",
    "\n",
    "For instance, we can modify our first `dice` model to sligthly favor executions where the two dice return different values.\n",
    "Again the resulting distribution is skewed."
   ]
  },
  {
   "cell_type": "code",
   "execution_count": null,
   "metadata": {},
   "outputs": [],
   "source": [
    "def dice() -> int:\n",
    "    a = sample(RandInt(1, 6), name=\"a\")\n",
    "    b = sample(RandInt(1, 6), name=\"b\")\n",
    "    factor(1 if a != b else -0.5)\n",
    "    return a + b\n",
    "\n",
    "with Enumeration():\n",
    "    dist: Categorical[float] = infer(dice)  # type: ignore\n",
    "    viz(dist)"
   ]
  },
  {
   "cell_type": "code",
   "execution_count": null,
   "metadata": {},
   "outputs": [],
   "source": []
  }
 ],
 "metadata": {
  "kernelspec": {
   "display_name": "probprog-25-26 (3.13.7)",
   "language": "python",
   "name": "python3"
  },
  "language_info": {
   "codemirror_mode": {
    "name": "ipython",
    "version": 3
   },
   "file_extension": ".py",
   "mimetype": "text/x-python",
   "name": "python",
   "nbconvert_exporter": "python",
   "pygments_lexer": "ipython3",
   "version": "3.13.7"
  }
 },
 "nbformat": 4,
 "nbformat_minor": 2
}
