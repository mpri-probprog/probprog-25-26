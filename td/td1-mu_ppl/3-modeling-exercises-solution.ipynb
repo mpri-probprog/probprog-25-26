{
 "cells": [
  {
   "cell_type": "code",
   "execution_count": 1,
   "id": "c6e3276b",
   "metadata": {},
   "outputs": [],
   "source": [
    "#%pip install git+https://github.com/gbdrt/mu-ppl"
   ]
  },
  {
   "cell_type": "code",
   "execution_count": 2,
   "id": "316d6b9f",
   "metadata": {},
   "outputs": [],
   "source": [
    "from mu_ppl import *\n",
    "import numpy as np\n",
    "import matplotlib.pyplot as plt\n",
    "import pandas as pd"
   ]
  },
  {
   "cell_type": "markdown",
   "id": "8bf7ddcb",
   "metadata": {},
   "source": [
    "# Exercices"
   ]
  },
  {
   "cell_type": "markdown",
   "id": "882f77de",
   "metadata": {},
   "source": [
    "**Question 1**\n",
    "\n",
    "Define a probabilistic program that models the number of tosses of a fair coin before getting a Tail."
   ]
  },
  {
   "cell_type": "code",
   "execution_count": 3,
   "id": "77a6af72",
   "metadata": {},
   "outputs": [
    {
     "name": "stderr",
     "output_type": "stream",
     "text": [
      "100%|██████████| 10000/10000 [00:00<00:00, 676173.46it/s]\n"
     ]
    },
    {
     "data": {
      "image/png": "[encoded data removed]",
      "text/plain": [
       "<Figure size 640x480 with 1 Axes>"
      ]
     },
     "metadata": {},
     "output_type": "display_data"
    }
   ],
   "source": [
    "def success(n):\n",
    "    flip = sample(Bernoulli(0.5))\n",
    "    if flip:\n",
    "        return n\n",
    "    return success(n+1)\n",
    "\n",
    "\n",
    "with ImportanceSampling(num_particles=10000):\n",
    "    dist: Empirical[int] = infer(success, 1)\n",
    "    viz(dist) \n",
    "\n"
   ]
  },
  {
   "cell_type": "markdown",
   "id": "7ec517a3",
   "metadata": {},
   "source": [
    "**Question 2**\n",
    "\n",
    "Knuth and Yao proposed an algorithm that allows simulating a perfect 6-sided die from a fair coin. \n",
    "The algorithm corresponds to the discrete Markov chain represented below.\n",
    "\n",
    "![knuth-yao](./knuth-yao.jpg)\n",
    "\n",
    "Starting from the initial state, we follow the transitions based on the result of a coin toss (probability 0.5 on each of the two branches). \n",
    "We return the value obtained as soon as we reach a leaf. \n",
    "The 6 leaves numbered from 11 to 16 correspond to the 6 faces of the die.\n",
    "\n",
    "_D. Knuth and A. Yao. Algorithms and Complexity: New Directions and Recent Results, chapter The complexity of nonuniform random number generation. Academic Press, 1976.) proposed an algorithm that allows simulating a perfect 6-sided die from a fair coin [1]. The algorithm corresponds to the discrete Markov chain represented below._\n",
    "\n",
    "Implement this model and verify that we indeed obtain a balanced die."
   ]
  },
  {
   "cell_type": "code",
   "execution_count": 4,
   "id": "4b7a9be2",
   "metadata": {},
   "outputs": [
    {
     "name": "stderr",
     "output_type": "stream",
     "text": [
      "100%|██████████| 100000/100000 [00:00<00:00, 298165.99it/s]\n"
     ]
    },
    {
     "data": {
      "image/png": "[encoded data removed]",
      "text/plain": [
       "<Figure size 640x480 with 1 Axes>"
      ]
     },
     "metadata": {},
     "output_type": "display_data"
    }
   ],
   "source": [
    "def dice ():\n",
    "  def gen(x):\n",
    "    c = sample(Bernoulli(0.5))\n",
    "    match x:\n",
    "      case 0:\n",
    "        return gen(1 if c else 2)\n",
    "      case 1:\n",
    "        return gen(3 if c else 4)\n",
    "      case 2:\n",
    "        return gen(5 if c else 6)\n",
    "      case 3:\n",
    "        return gen(1 if c else 11)\n",
    "      case 4:\n",
    "        return gen(12 if c else 13)\n",
    "      case 5:\n",
    "        return gen(14 if c else 15)\n",
    "      case 6:\n",
    "        return gen(16 if c else 2)\n",
    "      case _:\n",
    "        return x\n",
    "  return gen(0)\n",
    "  \n",
    "with ImportanceSampling(num_particles=100000):\n",
    "  dist: Empirical[int] = infer(dice)\n",
    "  viz(dist) \n"
   ]
  },
  {
   "cell_type": "markdown",
   "id": "4be57029",
   "metadata": {},
   "source": [
    "**Question 3**\n",
    "\n",
    "TrueSkills™ is a ranking system developed by Microsoft for Xbox Live.\n",
    "Each player's skill level is represented by a Gaussian distribution. \n",
    "We initially assume that for all players P, skill_P ∼ N(100, 10).\n",
    "In each duel, the performance of each player follows a Gaussian distribution centered on their skill level with a fixed variance. \n",
    "We then observe that the performance of the winner W is superior to that of the loser L, which updates the random variables skill_W and skill_L.\n",
    "\n",
    "```\n",
    "perf_W ∼ N(skill_W, 15)\n",
    "perf_L ∼ N(skill_L, 15)\n",
    "perf_W > perf_L\n",
    "```\n",
    "\n",
    "_R. Herbrich, T. Minka and T. Graepel TrueSkill™: A Bayesian Skill Rating System. NIPS, 2006._\n",
    "\n",
    "Implement this model for three players A, B, and C, and three duels:\n",
    "\n",
    "```\n",
    "A wins against B,\n",
    "B wins against C,\n",
    "A wins against C.\n",
    "```\n",
    "\n",
    "Verify that the obtained results correspond to what we expect.\n",
    "\n"
   ]
  },
  {
   "cell_type": "code",
   "execution_count": 43,
   "id": "31e9316b",
   "metadata": {},
   "outputs": [
    {
     "name": "stderr",
     "output_type": "stream",
     "text": [
      "100%|██████████| 10000/10000 [00:00<00:00, 153259.13it/s]"
     ]
    },
    {
     "name": "stdout",
     "output_type": "stream",
     "text": [
      "A: (105.23303708838591, 9.276327880936902)\n",
      "B: (100.17692163425774, 9.038217129250969)\n",
      "C: (94.37438426907613, 8.971364086994274)\n"
     ]
    },
    {
     "name": "stderr",
     "output_type": "stream",
     "text": [
      "\n"
     ]
    }
   ],
   "source": [
    "def true_skills() -> list[float]:\n",
    "    skill_a = sample(Gaussian(100., 10.))\n",
    "    skill_b = sample(Gaussian(100., 10.))\n",
    "    skill_c = sample(Gaussian(100., 10.))\n",
    "    \n",
    "    # A vs B (A wins)\n",
    "    perf_a1 = sample(Gaussian(skill_a, 15.))\n",
    "    perf_b1 = sample(Gaussian(skill_b, 15.))\n",
    "    assume(perf_a1 > perf_b1)\n",
    "    \n",
    "    # B vs C (B wins) \n",
    "    perf_b2 = sample(Gaussian(skill_b, 15.))\n",
    "    perf_c2 = sample(Gaussian(skill_c, 15.))\n",
    "    assume(perf_b2 > perf_c2)\n",
    "    \n",
    "    # A vs C (A wins)\n",
    "    perf_a3 = sample(Gaussian(skill_a, 15.))\n",
    "    perf_c3 = sample(Gaussian(skill_c, 15.))\n",
    "    assume(perf_a3 > perf_c3)\n",
    "    \n",
    "    return [skill_a, skill_b, skill_c]\n",
    "\n",
    "\n",
    "with ImportanceSampling(num_particles=10000):\n",
    "    dist: Empirical[list[float]] = infer(true_skills)  # type: ignore\n",
    "    [d_skill_a, d_skill_b, d_skill_c] = split(dist)\n",
    "    print(f\"A: {d_skill_a.stats()}\")\n",
    "    print(f\"B: {d_skill_b.stats()}\")\n",
    "    print(f\"C: {d_skill_c.stats()}\")\n"
   ]
  },
  {
   "cell_type": "markdown",
   "id": "58b94c1a",
   "metadata": {},
   "source": [
    "_Optional_: Implement a more general model that takes as parameters an array of players with their initial skill levels and a list of duels. \n",
    "We can represent a duel by a pair of integers (i, j) where i and j correspond to the indices of the players in the array. \n",
    "By convention, the winner of the duel will always be i."
   ]
  },
  {
   "cell_type": "code",
   "execution_count": 6,
   "id": "2a265b1d",
   "metadata": {},
   "outputs": [
    {
     "name": "stderr",
     "output_type": "stream",
     "text": [
      "100%|██████████| 10000/10000 [00:00<00:00, 193994.83it/s]"
     ]
    },
    {
     "name": "stdout",
     "output_type": "stream",
     "text": [
      "A: (105.4769228403002, 9.447160876817108)\n",
      "B: (100.06158025855791, 9.026465034361976)\n",
      "C: (93.81460715537773, 9.16617057943569)\n"
     ]
    },
    {
     "name": "stderr",
     "output_type": "stream",
     "text": [
      "\n"
     ]
    }
   ],
   "source": [
    "def true_skills2(players, results):\n",
    "    skills = [sample(Gaussian(mu, 10.)) for mu in players]\n",
    "    for winner, loser in results:\n",
    "        perf_winner = sample(Gaussian(skills[winner], 15.))\n",
    "        perf_loser = sample(Gaussian(skills[loser], 15.))\n",
    "        assume(perf_winner > perf_loser)\n",
    "    return skills\n",
    "\n",
    "with ImportanceSampling(num_particles=10000):\n",
    "    dist: Empirical[list[float]] = infer(true_skills2, [100]*3, [(0, 1), (1, 2), (0, 2)])  # type: ignore\n",
    "    [d_skill_a, d_skill_b, d_skill_c] = split(dist)\n",
    "    print(f\"A: {d_skill_a.stats()}\")\n",
    "    print(f\"B: {d_skill_b.stats()}\")\n",
    "    print(f\"C: {d_skill_c.stats()}\")"
   ]
  },
  {
   "cell_type": "markdown",
   "id": "588e3e5d",
   "metadata": {},
   "source": [
    "**Question 4**\n",
    "\n",
    "During the Vietnam War in 1975, researchers needed to evaluate the proportion of soldiers who smoke. Since smoking was a sensitive topic that soldiers might not answer honestly, they designed an experiment to protect individual privacy. \n",
    "When asked \"Do you smoke?\", each soldier was instructed to first toss a coin privately. \n",
    "Only the soldier could see the result.\n",
    "If the coin showed heads, the soldier was instructed to answer \"yes\" regardless of whether they actually smoke or not. \n",
    "If the coin showed tails, the soldier was instructed to answer truthfully.\n",
    "\n",
    "After 200 responses, 160 soldiers answered \"yes\" and 40 answered \"no\".\n",
    "\n",
    "Can you compute the probability that a soldier is a smoker (using Bayes' theorem) ?\n",
    "\n",
    "Use a probabilistic model to evaluate what is the probability that a soldier is a smoker."
   ]
  },
  {
   "cell_type": "markdown",
   "id": "cdca2cdc",
   "metadata": {},
   "source": [
    "_Solution_\n",
    "\n",
    "```\n",
    "P(S) probability of smoke\n",
    "P(Y) = 160 / 200 = 0.8 probability of yes from the data\n",
    "P(Y) = P(Y | Head) * 0.5 + P(Y | Tail) * 0.5 = 0.5 * 1 + 0.5 * P(S)\n",
    "```\n",
    "\n",
    "So 0.8 = 0.5 + 0.5 * P(S) that is P(S) = 0.6\n",
    "\n",
    "**The missing question**\n",
    "What is the probability that you smoke _given_ that you said yes?\n",
    "\n",
    "```\n",
    "P(S | Y) = P(Y | S) * P(S) / P(Y)$ (Bayes' theorem)\n",
    "P(Y | S) = 1\n",
    "P(Y) = 0.8\n",
    "```\n",
    "\n",
    "So P(S | Y) = 1 * 0.6 / 0.8 = 0.75"
   ]
  },
  {
   "cell_type": "code",
   "execution_count": 7,
   "id": "8deba797",
   "metadata": {},
   "outputs": [
    {
     "name": "stderr",
     "output_type": "stream",
     "text": [
      "100%|██████████| 10000/10000 [00:01<00:00, 5215.48it/s]"
     ]
    },
    {
     "name": "stdout",
     "output_type": "stream",
     "text": [
      "(0.5955717936087231, 0.060851822512268755)\n"
     ]
    },
    {
     "name": "stderr",
     "output_type": "stream",
     "text": [
      "\n"
     ]
    }
   ],
   "source": [
    "def canabis(yes, population):\n",
    "    p = sample(Uniform(0, 1))\n",
    "    smokers = 0\n",
    "    for _ in range(population):\n",
    "        smoke = sample(Bernoulli(p))\n",
    "        coin = sample(Bernoulli(0.5))\n",
    "        if coin or smoke:\n",
    "            smokers += 1\n",
    "    assume(yes == smokers)\n",
    "    return p\n",
    "\n",
    "with ImportanceSampling(num_particles=10000):\n",
    "    dist: Empirical[float] = infer(canabis, 160, 200)  # type: ignore\n",
    "    print(dist.stats())\n"
   ]
  },
  {
   "cell_type": "code",
   "execution_count": null,
   "id": "99a46703",
   "metadata": {},
   "outputs": [
    {
     "name": "stderr",
     "output_type": "stream",
     "text": [
      "100%|██████████| 10000/10000 [00:00<00:00, 446207.30it/s]"
     ]
    },
    {
     "name": "stdout",
     "output_type": "stream",
     "text": [
      "(0.7597443288632663, 0.42726544811455414)\n"
     ]
    },
    {
     "name": "stderr",
     "output_type": "stream",
     "text": [
      "\n"
     ]
    }
   ],
   "source": [
    "def missing_question():\n",
    "    p = sample(Bernoulli(0.6)) # P(S)\n",
    "    smoke = sample(Bernoulli(p))\n",
    "    coin = sample(Bernoulli(0.5))\n",
    "    assume(coin or smoke)\n",
    "    return smoke\n",
    "\n",
    "\n",
    "\n",
    "with ImportanceSampling(num_particles=10000):\n",
    "    dist: Empirical[float] = infer(missing_question)  # type: ignore\n",
    "    print(dist.stats())"
   ]
  },
  {
   "cell_type": "code",
   "execution_count": null,
   "id": "bf248a47",
   "metadata": {},
   "outputs": [],
   "source": []
  }
 ],
 "metadata": {
  "kernelspec": {
   "display_name": "probprog-25-26 (3.13.7)",
   "language": "python",
   "name": "python3"
  },
  "language_info": {
   "codemirror_mode": {
    "name": "ipython",
    "version": 3
   },
   "file_extension": ".py",
   "mimetype": "text/x-python",
   "name": "python",
   "nbconvert_exporter": "python",
   "pygments_lexer": "ipython3",
   "version": "3.13.7"
  }
 },
 "nbformat": 4,
 "nbformat_minor": 5
}
